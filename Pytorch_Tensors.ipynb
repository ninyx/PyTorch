{
  "nbformat": 4,
  "nbformat_minor": 0,
  "metadata": {
    "colab": {
      "provenance": []
    },
    "kernelspec": {
      "name": "python3",
      "display_name": "Python 3"
    },
    "language_info": {
      "name": "python"
    },
    "gpuClass": "standard"
  },
  "cells": [
    {
      "cell_type": "code",
      "source": [
        "import torch\n",
        "import pandas as pd\n",
        "import numpy as np\n",
        "import matplotlib.pyplot as plt"
      ],
      "metadata": {
        "id": "n-YwUXpJVTdD"
      },
      "execution_count": null,
      "outputs": []
    },
    {
      "cell_type": "markdown",
      "source": [
        "## Introduction to Tensors"
      ],
      "metadata": {
        "id": "AxnaJ_BjVHph"
      }
    },
    {
      "cell_type": "code",
      "source": [
        "#Creating scalars\n",
        "scalar = torch.tensor(8)\n",
        "scalar.ndim #scalars have no dimensions\n",
        "\n",
        "#Get scalar as Python integer\n",
        "scalar.item()\n",
        "\n"
      ],
      "metadata": {
        "colab": {
          "base_uri": "https://localhost:8080/"
        },
        "id": "XGEvvQRrVMZL",
        "outputId": "ee8b7cb3-d152-4d5a-c10e-166d8b4776e9"
      },
      "execution_count": null,
      "outputs": [
        {
          "output_type": "execute_result",
          "data": {
            "text/plain": [
              "8"
            ]
          },
          "metadata": {},
          "execution_count": 2
        }
      ]
    },
    {
      "cell_type": "code",
      "source": [
        "#Creating vectors\n",
        "\n",
        "vector = torch.tensor([7,7])\n",
        "vector.ndim # vectors has dimensions greater than or equal to 1 (number of pairs of brackets)\n",
        "vector.shape #the number of elements\n"
      ],
      "metadata": {
        "colab": {
          "base_uri": "https://localhost:8080/"
        },
        "id": "KF1eJ3JDWhaU",
        "outputId": "f780f4b2-1aac-49d2-cee6-0b0c02332cca"
      },
      "execution_count": null,
      "outputs": [
        {
          "output_type": "execute_result",
          "data": {
            "text/plain": [
              "torch.Size([2])"
            ]
          },
          "metadata": {},
          "execution_count": 3
        }
      ]
    },
    {
      "cell_type": "code",
      "source": [
        "#Creating matrices\n",
        "\n",
        "MATRIX = torch.tensor([[7,7],\n",
        "                      [8,8],])\n",
        "\n",
        "MATRIX.ndim\n",
        "MATRIX[0] #accessing items in matrices similar to array \n",
        "MATRIX[1]\n",
        "MATRIX.shape"
      ],
      "metadata": {
        "colab": {
          "base_uri": "https://localhost:8080/"
        },
        "id": "3JwUK73BWzNU",
        "outputId": "d6510d7d-fa1c-4304-f786-0d039eeae674"
      },
      "execution_count": null,
      "outputs": [
        {
          "output_type": "execute_result",
          "data": {
            "text/plain": [
              "torch.Size([2, 2])"
            ]
          },
          "metadata": {},
          "execution_count": 4
        }
      ]
    },
    {
      "cell_type": "code",
      "source": [
        "#Creating tensors\n",
        "\n",
        "TENSOR = torch.tensor([[[1,2,3,4],\n",
        "                        [4,5,6,4],\n",
        "                        [7,8,9,4]],\n",
        "                       [[1,2,3,4],\n",
        "                        [4,5,6,4],\n",
        "                        [7,8,9,4]],])\n",
        "\n",
        "TENSOR.ndim\n",
        "TENSOR.shape"
      ],
      "metadata": {
        "colab": {
          "base_uri": "https://localhost:8080/"
        },
        "id": "Mlt_wLJBYNKC",
        "outputId": "1d3f212f-f361-4e44-e94f-29152435ab8f"
      },
      "execution_count": null,
      "outputs": [
        {
          "output_type": "execute_result",
          "data": {
            "text/plain": [
              "torch.Size([2, 3, 4])"
            ]
          },
          "metadata": {},
          "execution_count": 5
        }
      ]
    },
    {
      "cell_type": "markdown",
      "source": [
        "### Random tensors\n"
      ],
      "metadata": {
        "id": "uvV34HwRcjEc"
      }
    },
    {
      "cell_type": "code",
      "source": [
        "#Create random tensor with of tensor of size (3,4)\n",
        "random_tensor = torch.rand(3,4)\n",
        "random_tensor \n"
      ],
      "metadata": {
        "colab": {
          "base_uri": "https://localhost:8080/"
        },
        "id": "0RBmv0f2ZNWi",
        "outputId": "9b011ae4-375b-4a0e-bf34-12e3d15cf529"
      },
      "execution_count": null,
      "outputs": [
        {
          "output_type": "execute_result",
          "data": {
            "text/plain": [
              "tensor([[0.9447, 0.4934, 0.5755, 0.1343],\n",
              "        [0.1258, 0.3062, 0.5892, 0.6148],\n",
              "        [0.0445, 0.8260, 0.1258, 0.7959]])"
            ]
          },
          "metadata": {},
          "execution_count": 6
        }
      ]
    },
    {
      "cell_type": "code",
      "source": [
        " #Create random tensor with shape similar to image tensor\n",
        "\n",
        " random_image_size_tensor = torch.rand(size = (3, 224, 224)) #height, width, color channels (RGB)\n",
        " random_image_size_tensor.shape, random_image_size_tensor.ndim"
      ],
      "metadata": {
        "colab": {
          "base_uri": "https://localhost:8080/"
        },
        "id": "Nd5JqWz3dYMB",
        "outputId": "3fd9de03-843a-4037-8955-bb203ee93620"
      },
      "execution_count": null,
      "outputs": [
        {
          "output_type": "execute_result",
          "data": {
            "text/plain": [
              "(torch.Size([3, 224, 224]), 3)"
            ]
          },
          "metadata": {},
          "execution_count": 7
        }
      ]
    },
    {
      "cell_type": "markdown",
      "source": [
        "### Zeros and Ones Tensors"
      ],
      "metadata": {
        "id": "yu0a8QZEh8e8"
      }
    },
    {
      "cell_type": "code",
      "source": [
        "#Creating an all-zero tensor\n",
        "zeros = torch.zeros(3,4)\n",
        "zeros, zeros.dtype"
      ],
      "metadata": {
        "colab": {
          "base_uri": "https://localhost:8080/"
        },
        "id": "aAPuuOQRhLSf",
        "outputId": "12012136-2ec5-44a5-ee30-fee4ff8f5beb"
      },
      "execution_count": null,
      "outputs": [
        {
          "output_type": "execute_result",
          "data": {
            "text/plain": [
              "(tensor([[0., 0., 0., 0.],\n",
              "         [0., 0., 0., 0.],\n",
              "         [0., 0., 0., 0.]]),\n",
              " torch.float32)"
            ]
          },
          "metadata": {},
          "execution_count": 8
        }
      ]
    },
    {
      "cell_type": "code",
      "source": [
        "ones = torch.ones(3,4)\n",
        "ones, ones.dtype"
      ],
      "metadata": {
        "colab": {
          "base_uri": "https://localhost:8080/"
        },
        "id": "R91Fb_MzlGKA",
        "outputId": "724697c8-3fd4-44cc-dd00-98805f4e4655"
      },
      "execution_count": null,
      "outputs": [
        {
          "output_type": "execute_result",
          "data": {
            "text/plain": [
              "(tensor([[1., 1., 1., 1.],\n",
              "         [1., 1., 1., 1.],\n",
              "         [1., 1., 1., 1.]]),\n",
              " torch.float32)"
            ]
          },
          "metadata": {},
          "execution_count": 9
        }
      ]
    },
    {
      "cell_type": "markdown",
      "source": [
        "### Range of Tensors and tensors-like"
      ],
      "metadata": {
        "id": "pslrPSM1lcWH"
      }
    },
    {
      "cell_type": "code",
      "source": [
        "#Creating range of tensors\n",
        "one2ten = torch.arange(start = 1,end = 10, step = 1)\n",
        "one2ten"
      ],
      "metadata": {
        "colab": {
          "base_uri": "https://localhost:8080/"
        },
        "id": "7k3oyQ3alP_s",
        "outputId": "c4a2a00b-3014-4f0a-9378-05d0f7389fb1"
      },
      "execution_count": null,
      "outputs": [
        {
          "output_type": "execute_result",
          "data": {
            "text/plain": [
              "tensor([1, 2, 3, 4, 5, 6, 7, 8, 9])"
            ]
          },
          "metadata": {},
          "execution_count": 10
        }
      ]
    },
    {
      "cell_type": "code",
      "source": [
        "#Creating tensors like\n",
        "\n",
        "ten_zeros = torch.zeros_like(input = one2ten)\n",
        "ten_zeros\n"
      ],
      "metadata": {
        "colab": {
          "base_uri": "https://localhost:8080/"
        },
        "id": "rQm0JzEllnsp",
        "outputId": "a1d08aa5-c19d-4179-fa06-6665359360aa"
      },
      "execution_count": null,
      "outputs": [
        {
          "output_type": "execute_result",
          "data": {
            "text/plain": [
              "tensor([0, 0, 0, 0, 0, 0, 0, 0, 0])"
            ]
          },
          "metadata": {},
          "execution_count": 11
        }
      ]
    },
    {
      "cell_type": "code",
      "source": [
        "ten_ones = torch.ones_like(input = one2ten)\n",
        "ten_ones"
      ],
      "metadata": {
        "colab": {
          "base_uri": "https://localhost:8080/"
        },
        "id": "Xt8aICM6mmFQ",
        "outputId": "0c6bb99d-d679-49c6-9d0a-06778f6f0847"
      },
      "execution_count": null,
      "outputs": [
        {
          "output_type": "execute_result",
          "data": {
            "text/plain": [
              "tensor([1, 1, 1, 1, 1, 1, 1, 1, 1])"
            ]
          },
          "metadata": {},
          "execution_count": 12
        }
      ]
    },
    {
      "cell_type": "markdown",
      "source": [
        "## Tensor Datatypes\n"
      ],
      "metadata": {
        "id": "CAcOQ5wcn-Sm"
      }
    },
    {
      "cell_type": "code",
      "source": [
        "#Creating tensors with different datatypes\n",
        "\n",
        "# datatype is essential to precision in computing \n",
        "# default tensor datatype is float32 even if set to None\n",
        "float32_tensor = torch.tensor([3.0, 6.0, 9.0], \n",
        "                              dtype = None, #datatype of tensor\n",
        "                              device = None, #cpu or gpu\n",
        "                              requires_grad = False) #whether or not to track gradience with calculations \n",
        "\n",
        "#\n",
        "float32_tensor, float32_tensor.dtype"
      ],
      "metadata": {
        "colab": {
          "base_uri": "https://localhost:8080/"
        },
        "id": "_K4hIUulnBov",
        "outputId": "b8a097b7-2e82-497b-bb64-2ed1b5c12d16"
      },
      "execution_count": null,
      "outputs": [
        {
          "output_type": "execute_result",
          "data": {
            "text/plain": [
              "(tensor([3., 6., 9.]), torch.float32)"
            ]
          },
          "metadata": {},
          "execution_count": 13
        }
      ]
    },
    {
      "cell_type": "code",
      "source": [
        "float16_tensor = torch.tensor([3.0, 6.0, 9.0], dtype = torch.float16) \n",
        "\n",
        "float16_tensor, float16_tensor.dtype\n",
        "\n"
      ],
      "metadata": {
        "colab": {
          "base_uri": "https://localhost:8080/"
        },
        "id": "XnsIB9z4obZs",
        "outputId": "c2f96352-d8d8-407e-a675-82ff7bdbf21d"
      },
      "execution_count": null,
      "outputs": [
        {
          "output_type": "execute_result",
          "data": {
            "text/plain": [
              "(tensor([3., 6., 9.], dtype=torch.float16), torch.float16)"
            ]
          },
          "metadata": {},
          "execution_count": 14
        }
      ]
    },
    {
      "cell_type": "code",
      "source": [
        "float16_tensor = float32_tensor.type(torch.float16)\n",
        "\n",
        "float16_tensor, float16_tensor.dtype"
      ],
      "metadata": {
        "colab": {
          "base_uri": "https://localhost:8080/"
        },
        "id": "myj2zr3povP_",
        "outputId": "281e3350-6ee3-416e-ff86-3da90cf04cd4"
      },
      "execution_count": null,
      "outputs": [
        {
          "output_type": "execute_result",
          "data": {
            "text/plain": [
              "(tensor([3., 6., 9.], dtype=torch.float16), torch.float16)"
            ]
          },
          "metadata": {},
          "execution_count": 15
        }
      ]
    },
    {
      "cell_type": "markdown",
      "source": [
        "### Tensor Attributes"
      ],
      "metadata": {
        "id": "k41xJoNkcL4P"
      }
    },
    {
      "cell_type": "code",
      "source": [
        "#Create some tensor\n",
        "\n",
        "some_tensor = torch.rand(4,3)\n",
        "\n",
        "print(some_tensor)\n",
        "print(f'Datatype of tensor: {some_tensor.dtype}')\n",
        "print(f'Shape of tensor: {some_tensor.shape}')\n",
        "print(f'Device tensor is on: {some_tensor.device}')"
      ],
      "metadata": {
        "id": "Vl16RZ0AqkWj",
        "colab": {
          "base_uri": "https://localhost:8080/"
        },
        "outputId": "c41845c7-9f7f-4785-95da-ec3a8fc31f1a"
      },
      "execution_count": null,
      "outputs": [
        {
          "output_type": "stream",
          "name": "stdout",
          "text": [
            "tensor([[0.9242, 0.9462, 0.8871],\n",
            "        [0.0035, 0.6905, 0.7639],\n",
            "        [0.8581, 0.9169, 0.8354],\n",
            "        [0.2214, 0.0164, 0.9725]])\n",
            "Datatype of tensor: torch.float32\n",
            "Shape of tensor: torch.Size([4, 3])\n",
            "Device tensor is on: cpu\n"
          ]
        }
      ]
    },
    {
      "cell_type": "markdown",
      "source": [
        "### Tensor Operations\n",
        "(element - wise)\n",
        "- Addition\n",
        "- Subtraction\n",
        "- Multiplication (element - wise)\n",
        "- Division\n",
        "\n",
        "By Matrix\n",
        "- Matrix Multiplication"
      ],
      "metadata": {
        "id": "f9NLb7fYy-5d"
      }
    },
    {
      "cell_type": "code",
      "source": [
        "# Tensor Operation (element - wise)\n",
        "\n",
        "tensor = torch.tensor([1,2,3])\n",
        "print(tensor + 10) #addition torch.add\n",
        "print(tensor - 10) #subtraction torch.sub\n",
        "print(tensor * 10) #multiplication torch.mul\n",
        "print(tensor / 10) #division torch.div"
      ],
      "metadata": {
        "colab": {
          "base_uri": "https://localhost:8080/"
        },
        "id": "b0-5WkEHc0Hq",
        "outputId": "f634fea3-028e-4a51-fb70-c5a32e23628c"
      },
      "execution_count": null,
      "outputs": [
        {
          "output_type": "stream",
          "name": "stdout",
          "text": [
            "tensor([11, 12, 13])\n",
            "tensor([-9, -8, -7])\n",
            "tensor([10, 20, 30])\n",
            "tensor([0.1000, 0.2000, 0.3000])\n"
          ]
        }
      ]
    },
    {
      "cell_type": "code",
      "source": [
        "# Matrix Multiplication (dot product)\n",
        "print(torch.matmul(tensor, tensor)) #can also be torch.mm()"
      ],
      "metadata": {
        "colab": {
          "base_uri": "https://localhost:8080/"
        },
        "id": "INh70gceAa0O",
        "outputId": "398a7b02-c9dd-44ad-b756-496a470f1f9b"
      },
      "execution_count": null,
      "outputs": [
        {
          "output_type": "stream",
          "name": "stdout",
          "text": [
            "tensor(14)\n"
          ]
        }
      ]
    },
    {
      "cell_type": "markdown",
      "source": [
        "### Tensor Aggregation"
      ],
      "metadata": {
        "id": "aaXQmr608p-K"
      }
    },
    {
      "cell_type": "code",
      "source": [
        "#Create a tensor\n",
        "range_tensor = torch.arange(0,1000,100)\n",
        "print(torch.min(range_tensor), range_tensor.min()) #finding min value in tensor\n",
        "print(torch.max(range_tensor), range_tensor.max()) #finding max value in tensor\n",
        "print(torch.mean(range_tensor.type(torch.float32)), range_tensor.type(torch.float32).mean()) #mean of tensor (has to be float32 datatype)\n",
        "print(torch.sum(range_tensor), range_tensor.sum()) #sum of all the items in range_tensor"
      ],
      "metadata": {
        "colab": {
          "base_uri": "https://localhost:8080/"
        },
        "id": "qSwT_hUu81m1",
        "outputId": "415d8389-592a-486b-e95e-36d76c7421f7"
      },
      "execution_count": null,
      "outputs": [
        {
          "output_type": "stream",
          "name": "stdout",
          "text": [
            "tensor(0) tensor(0)\n",
            "tensor(900) tensor(900)\n",
            "tensor(450.) tensor(450.)\n",
            "tensor(4500) tensor(4500)\n"
          ]
        }
      ]
    },
    {
      "cell_type": "code",
      "source": [
        "#Create a tensor\n",
        "range_tensor = torch.arange(0,1000,100)\n",
        "print(torch.argmin(range_tensor), range_tensor.argmin()) #finding index of min value in tensor\n",
        "print(torch.argmax(range_tensor), range_tensor.argmax()) #finding index of max value in tensor\n"
      ],
      "metadata": {
        "colab": {
          "base_uri": "https://localhost:8080/"
        },
        "outputId": "fb6d9b6d-2870-4da2-9632-c3b110c34aa4",
        "id": "MHC17aVc_bFL"
      },
      "execution_count": null,
      "outputs": [
        {
          "output_type": "stream",
          "name": "stdout",
          "text": [
            "tensor(0) tensor(0)\n",
            "tensor(9) tensor(9)\n",
            "tensor(450.) tensor(450.)\n",
            "tensor(4500) tensor(4500)\n"
          ]
        }
      ]
    },
    {
      "cell_type": "markdown",
      "source": [
        "### Reshsaping, viewing, stacking, squeezing, unsqueezing, permuting tensors\n",
        "\n",
        "- Reshaping - change shape (reshape) tensor to desired shape\n",
        "- Viewing - return view of intput tensor at certain shape but retain memory location\n",
        "- Stacking - combining multiple tensors horizontally, vertically, etc.\n",
        "- Squeeze - removes 1 dimension to tensor\n",
        "- Unsqueeze - adds 1 dimension to tensor\n",
        "- Permute - return view of tensor with dimensions swapped in certain way"
      ],
      "metadata": {
        "id": "AcFsuWUbBgeJ"
      }
    },
    {
      "cell_type": "code",
      "source": [
        "#reimport tensor to avoid rerunning all cells\n",
        "import torch\n",
        "\n",
        "range_tensor1 = torch.arange(0., 100., 10.)\n",
        "print(range_tensor1, range_tensor1.shape)\n",
        "\n",
        "#Reshape (compatible with original shape (factor of original shape))\n",
        "\n",
        "print(torch.reshape(range_tensor1, (1,2,5)), torch.reshape(range_tensor1, (10,1))) #can also be range_tensor1.reshape(enter desired shape)\n",
        "\n",
        "#Change view (will affect the original if values are changed etc.)\n",
        "print(range_tensor1.view(1,2,5), range_tensor1.view(10,1)) \n",
        "\n",
        "#Stack the tensors\n",
        "range_stacked = torch.stack([torch.arange(10),torch.arange(10),torch.arange(10)], dim = 0)\n",
        "print(range_stacked, range_stacked.shape)"
      ],
      "metadata": {
        "colab": {
          "base_uri": "https://localhost:8080/"
        },
        "id": "AlPCMVyGDaOI",
        "outputId": "3976aaa4-a88c-4d1b-c5cf-857fac85279f"
      },
      "execution_count": null,
      "outputs": [
        {
          "output_type": "stream",
          "name": "stdout",
          "text": [
            "tensor([ 0., 10., 20., 30., 40., 50., 60., 70., 80., 90.]) torch.Size([10])\n",
            "tensor([[[ 0., 10., 20., 30., 40.],\n",
            "         [50., 60., 70., 80., 90.]]]) tensor([[ 0.],\n",
            "        [10.],\n",
            "        [20.],\n",
            "        [30.],\n",
            "        [40.],\n",
            "        [50.],\n",
            "        [60.],\n",
            "        [70.],\n",
            "        [80.],\n",
            "        [90.]])\n",
            "tensor([[[ 0., 10., 20., 30., 40.],\n",
            "         [50., 60., 70., 80., 90.]]]) tensor([[ 0.],\n",
            "        [10.],\n",
            "        [20.],\n",
            "        [30.],\n",
            "        [40.],\n",
            "        [50.],\n",
            "        [60.],\n",
            "        [70.],\n",
            "        [80.],\n",
            "        [90.]])\n",
            "tensor([[0, 1, 2, 3, 4, 5, 6, 7, 8, 9],\n",
            "        [0, 1, 2, 3, 4, 5, 6, 7, 8, 9],\n",
            "        [0, 1, 2, 3, 4, 5, 6, 7, 8, 9]]) torch.Size([3, 10])\n"
          ]
        }
      ]
    },
    {
      "cell_type": "code",
      "source": [
        "#Squeeze tensor - \n",
        "print(range_stacked.squeeze(), range_stacked.squeeze().shape)\n",
        "print(torch.reshape(range_tensor1, (1,2,5)).squeeze(), torch.reshape(range_tensor1, (1,2,5)).squeeze().shape)\n",
        "      \n",
        "#Unsqueeze\n",
        "print(range_stacked.unsqueeze(dim = 0), range_stacked.unsqueeze(dim = 0).shape)\n",
        "print(range_stacked.unsqueeze(dim = 1), range_stacked.unsqueeze(dim = 1).shape)\n",
        "\n",
        "#Permute\n",
        "pic_original = torch.rand(3, 234,244)\n",
        "print(pic_original, pic_original.shape)\n",
        "print(pic_original.permute(1, 2, 0), pic_original.permute(1, 2, 0).shape )"
      ],
      "metadata": {
        "colab": {
          "base_uri": "https://localhost:8080/"
        },
        "id": "k6ZOerh4FVHD",
        "outputId": "4d4f4284-0dda-4327-ee97-85d2085d20d7"
      },
      "execution_count": null,
      "outputs": [
        {
          "output_type": "stream",
          "name": "stdout",
          "text": [
            "tensor([[0, 1, 2, 3, 4, 5, 6, 7, 8, 9],\n",
            "        [0, 1, 2, 3, 4, 5, 6, 7, 8, 9],\n",
            "        [0, 1, 2, 3, 4, 5, 6, 7, 8, 9]]) torch.Size([3, 10])\n",
            "tensor([[ 0., 10., 20., 30., 40.],\n",
            "        [50., 60., 70., 80., 90.]]) torch.Size([2, 5])\n",
            "tensor([[[0, 1, 2, 3, 4, 5, 6, 7, 8, 9],\n",
            "         [0, 1, 2, 3, 4, 5, 6, 7, 8, 9],\n",
            "         [0, 1, 2, 3, 4, 5, 6, 7, 8, 9]]]) torch.Size([1, 3, 10])\n",
            "tensor([[[0, 1, 2, 3, 4, 5, 6, 7, 8, 9]],\n",
            "\n",
            "        [[0, 1, 2, 3, 4, 5, 6, 7, 8, 9]],\n",
            "\n",
            "        [[0, 1, 2, 3, 4, 5, 6, 7, 8, 9]]]) torch.Size([3, 1, 10])\n",
            "tensor([[[0.9607, 0.8418, 0.4961,  ..., 0.6564, 0.8995, 0.6046],\n",
            "         [0.8808, 0.9563, 0.3376,  ..., 0.3903, 0.4363, 0.6506],\n",
            "         [0.2374, 0.6531, 0.4389,  ..., 0.4905, 0.4275, 0.7955],\n",
            "         ...,\n",
            "         [0.4262, 0.9654, 0.8602,  ..., 0.6150, 0.9231, 0.9724],\n",
            "         [0.1236, 0.8010, 0.6414,  ..., 0.6184, 0.0571, 0.5528],\n",
            "         [0.3220, 0.8116, 0.2257,  ..., 0.4475, 0.8720, 0.8069]],\n",
            "\n",
            "        [[0.9422, 0.1662, 0.2687,  ..., 0.4367, 0.6397, 0.3090],\n",
            "         [0.0419, 0.8170, 0.5308,  ..., 0.4138, 0.8313, 0.5967],\n",
            "         [0.1977, 0.7421, 0.9433,  ..., 0.8238, 0.3532, 0.5036],\n",
            "         ...,\n",
            "         [0.2918, 0.1817, 0.4391,  ..., 0.6631, 0.4069, 0.6036],\n",
            "         [0.6966, 0.8853, 0.0518,  ..., 0.4779, 0.7990, 0.2339],\n",
            "         [0.4125, 0.1426, 0.9651,  ..., 0.1867, 0.4130, 0.2213]],\n",
            "\n",
            "        [[0.2165, 0.2685, 0.7123,  ..., 0.4998, 0.8541, 0.0028],\n",
            "         [0.1509, 0.6167, 0.8397,  ..., 0.9391, 0.3929, 0.9190],\n",
            "         [0.2717, 0.1190, 0.3777,  ..., 0.7179, 0.1483, 0.3114],\n",
            "         ...,\n",
            "         [0.4910, 0.3236, 0.8722,  ..., 0.3754, 0.9131, 0.7871],\n",
            "         [0.2879, 0.4946, 0.8336,  ..., 0.4075, 0.0087, 0.1117],\n",
            "         [0.1414, 0.8045, 0.9681,  ..., 0.4593, 0.9961, 0.0785]]]) torch.Size([3, 234, 244])\n",
            "tensor([[[0.9607, 0.9422, 0.2165],\n",
            "         [0.8418, 0.1662, 0.2685],\n",
            "         [0.4961, 0.2687, 0.7123],\n",
            "         ...,\n",
            "         [0.6564, 0.4367, 0.4998],\n",
            "         [0.8995, 0.6397, 0.8541],\n",
            "         [0.6046, 0.3090, 0.0028]],\n",
            "\n",
            "        [[0.8808, 0.0419, 0.1509],\n",
            "         [0.9563, 0.8170, 0.6167],\n",
            "         [0.3376, 0.5308, 0.8397],\n",
            "         ...,\n",
            "         [0.3903, 0.4138, 0.9391],\n",
            "         [0.4363, 0.8313, 0.3929],\n",
            "         [0.6506, 0.5967, 0.9190]],\n",
            "\n",
            "        [[0.2374, 0.1977, 0.2717],\n",
            "         [0.6531, 0.7421, 0.1190],\n",
            "         [0.4389, 0.9433, 0.3777],\n",
            "         ...,\n",
            "         [0.4905, 0.8238, 0.7179],\n",
            "         [0.4275, 0.3532, 0.1483],\n",
            "         [0.7955, 0.5036, 0.3114]],\n",
            "\n",
            "        ...,\n",
            "\n",
            "        [[0.4262, 0.2918, 0.4910],\n",
            "         [0.9654, 0.1817, 0.3236],\n",
            "         [0.8602, 0.4391, 0.8722],\n",
            "         ...,\n",
            "         [0.6150, 0.6631, 0.3754],\n",
            "         [0.9231, 0.4069, 0.9131],\n",
            "         [0.9724, 0.6036, 0.7871]],\n",
            "\n",
            "        [[0.1236, 0.6966, 0.2879],\n",
            "         [0.8010, 0.8853, 0.4946],\n",
            "         [0.6414, 0.0518, 0.8336],\n",
            "         ...,\n",
            "         [0.6184, 0.4779, 0.4075],\n",
            "         [0.0571, 0.7990, 0.0087],\n",
            "         [0.5528, 0.2339, 0.1117]],\n",
            "\n",
            "        [[0.3220, 0.4125, 0.1414],\n",
            "         [0.8116, 0.1426, 0.8045],\n",
            "         [0.2257, 0.9651, 0.9681],\n",
            "         ...,\n",
            "         [0.4475, 0.1867, 0.4593],\n",
            "         [0.8720, 0.4130, 0.9961],\n",
            "         [0.8069, 0.2213, 0.0785]]]) torch.Size([234, 244, 3])\n"
          ]
        }
      ]
    },
    {
      "cell_type": "markdown",
      "source": [
        "### Tensor Indexing"
      ],
      "metadata": {
        "id": "5h6KTeitIgrm"
      }
    },
    {
      "cell_type": "code",
      "source": [
        "# Create tensor\n",
        "tensor = torch.arange(1,10).reshape(1,3,3)\n",
        "print(tensor, tensor.shape)\n",
        "print(tensor[0], tensor[0][0], tensor[0][0][0])\n",
        "print(tensor[0,1,:])\n"
      ],
      "metadata": {
        "colab": {
          "base_uri": "https://localhost:8080/"
        },
        "id": "8yQ65IwxItHc",
        "outputId": "4ddc86a7-1e9a-431a-a26d-74048e611e49"
      },
      "execution_count": null,
      "outputs": [
        {
          "output_type": "stream",
          "name": "stdout",
          "text": [
            "tensor([[[1, 2, 3],\n",
            "         [4, 5, 6],\n",
            "         [7, 8, 9]]]) torch.Size([1, 3, 3])\n",
            "tensor([[1, 2, 3],\n",
            "        [4, 5, 6],\n",
            "        [7, 8, 9]]) tensor([1, 2, 3]) tensor(1)\n",
            "tensor([4, 5, 6])\n"
          ]
        }
      ]
    },
    {
      "cell_type": "markdown",
      "source": [
        "### Tensors with Numpy"
      ],
      "metadata": {
        "id": "uADUnI-PNYA7"
      }
    },
    {
      "cell_type": "code",
      "source": [
        "import torch\n",
        "import numpy as np"
      ],
      "metadata": {
        "id": "L5Xj3-kSJXU7"
      },
      "execution_count": 5,
      "outputs": []
    },
    {
      "cell_type": "code",
      "source": [
        "# Numpy to Tensor\n",
        "\n",
        "p_array = np.arange(1.0, 8.0)\n",
        "tensor = torch.from_numpy(np_array) #in float64 since default type for numpy is float64\n",
        "print(np_array, tensor)"
      ],
      "metadata": {
        "id": "oK5u7CBMNuOO",
        "colab": {
          "base_uri": "https://localhost:8080/"
        },
        "outputId": "19bdcdc4-d563-464b-9b31-4f962610c539"
      },
      "execution_count": 9,
      "outputs": [
        {
          "output_type": "stream",
          "name": "stdout",
          "text": [
            "[1. 2. 3. 4. 5. 6. 7.] tensor([1., 2., 3., 4., 5., 6., 7.], dtype=torch.float64)\n"
          ]
        }
      ]
    },
    {
      "cell_type": "code",
      "source": [
        "#Tensor to Numpy\n",
        "tensor = torch.arange(1.,8.)\n",
        "np_array = tensor.numpy() #in float32 since default dtype for tensor is float32\n",
        "print(tensor, np_array)"
      ],
      "metadata": {
        "colab": {
          "base_uri": "https://localhost:8080/"
        },
        "id": "3whW9loHj9Pb",
        "outputId": "88c78430-bab0-4064-ad1c-ec81f425b942"
      },
      "execution_count": 11,
      "outputs": [
        {
          "output_type": "stream",
          "name": "stdout",
          "text": [
            "tensor([1., 2., 3., 4., 5., 6., 7.]) [1. 2. 3. 4. 5. 6. 7.]\n"
          ]
        }
      ]
    },
    {
      "cell_type": "code",
      "source": [],
      "metadata": {
        "id": "J4EhajTRrl5_"
      },
      "execution_count": null,
      "outputs": []
    }
  ]
}