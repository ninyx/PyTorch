{
  "nbformat": 4,
  "nbformat_minor": 0,
  "metadata": {
    "colab": {
      "provenance": []
    },
    "kernelspec": {
      "name": "python3",
      "display_name": "Python 3"
    },
    "language_info": {
      "name": "python"
    },
    "gpuClass": "standard"
  },
  "cells": [
    {
      "cell_type": "code",
      "source": [
        "import torch\n",
        "import pandas as pd\n",
        "import numpy as np\n",
        "import matplotlib.pyplot as plt"
      ],
      "metadata": {
        "id": "n-YwUXpJVTdD"
      },
      "execution_count": 1,
      "outputs": []
    },
    {
      "cell_type": "markdown",
      "source": [
        "## Introduction to Tensors"
      ],
      "metadata": {
        "id": "AxnaJ_BjVHph"
      }
    },
    {
      "cell_type": "code",
      "source": [
        "#Creating scalars\n",
        "scalar = torch.tensor(8)\n",
        "scalar.ndim #scalars have no dimensions\n",
        "\n",
        "#Get scalar as Python integer\n",
        "scalar.item()\n",
        "\n"
      ],
      "metadata": {
        "colab": {
          "base_uri": "https://localhost:8080/"
        },
        "id": "XGEvvQRrVMZL",
        "outputId": "66741419-1b67-4746-d8a3-a55252f7b172"
      },
      "execution_count": 2,
      "outputs": [
        {
          "output_type": "execute_result",
          "data": {
            "text/plain": [
              "8"
            ]
          },
          "metadata": {},
          "execution_count": 2
        }
      ]
    },
    {
      "cell_type": "code",
      "source": [
        "#Creating vectors\n",
        "\n",
        "vector = torch.tensor([7,7])\n",
        "vector.ndim # vectors has dimensions greater than or equal to 1 (number of pairs of brackets)\n",
        "vector.shape #the number of elements\n"
      ],
      "metadata": {
        "colab": {
          "base_uri": "https://localhost:8080/"
        },
        "id": "KF1eJ3JDWhaU",
        "outputId": "d9e2b159-e7c4-40bc-9c81-c59a48d56aac"
      },
      "execution_count": 3,
      "outputs": [
        {
          "output_type": "execute_result",
          "data": {
            "text/plain": [
              "torch.Size([2])"
            ]
          },
          "metadata": {},
          "execution_count": 3
        }
      ]
    },
    {
      "cell_type": "code",
      "source": [
        "#Creating matrices\n",
        "\n",
        "MATRIX = torch.tensor([[7,7],\n",
        "                      [8,8],])\n",
        "\n",
        "MATRIX.ndim\n",
        "MATRIX[0] #accessing items in matrices similar to array \n",
        "MATRIX[1]\n",
        "MATRIX.shape"
      ],
      "metadata": {
        "colab": {
          "base_uri": "https://localhost:8080/"
        },
        "id": "3JwUK73BWzNU",
        "outputId": "05a9969f-98f9-4bc8-f4d0-740815bdaf18"
      },
      "execution_count": 4,
      "outputs": [
        {
          "output_type": "execute_result",
          "data": {
            "text/plain": [
              "torch.Size([2, 2])"
            ]
          },
          "metadata": {},
          "execution_count": 4
        }
      ]
    },
    {
      "cell_type": "code",
      "source": [
        "#Creating tensors\n",
        "\n",
        "TENSOR = torch.tensor([[[1,2,3,4],\n",
        "                        [4,5,6,4],\n",
        "                        [7,8,9,4]],\n",
        "                       [[1,2,3,4],\n",
        "                        [4,5,6,4],\n",
        "                        [7,8,9,4]],])\n",
        "\n",
        "TENSOR.ndim\n",
        "TENSOR.shape"
      ],
      "metadata": {
        "colab": {
          "base_uri": "https://localhost:8080/"
        },
        "id": "Mlt_wLJBYNKC",
        "outputId": "6a6ff5d2-9277-440d-8334-9da0d528f495"
      },
      "execution_count": 5,
      "outputs": [
        {
          "output_type": "execute_result",
          "data": {
            "text/plain": [
              "torch.Size([2, 3, 4])"
            ]
          },
          "metadata": {},
          "execution_count": 5
        }
      ]
    },
    {
      "cell_type": "markdown",
      "source": [
        "### Random tensors\n"
      ],
      "metadata": {
        "id": "uvV34HwRcjEc"
      }
    },
    {
      "cell_type": "code",
      "source": [
        "#Create random tensor with of tensor of size (3,4)\n",
        "random_tensor = torch.rand(3,4)\n",
        "random_tensor \n"
      ],
      "metadata": {
        "colab": {
          "base_uri": "https://localhost:8080/"
        },
        "id": "0RBmv0f2ZNWi",
        "outputId": "626e790c-7668-436c-af5d-9037e02262d7"
      },
      "execution_count": 6,
      "outputs": [
        {
          "output_type": "execute_result",
          "data": {
            "text/plain": [
              "tensor([[0.5692, 0.1835, 0.1668, 0.5658],\n",
              "        [0.0364, 0.0340, 0.7525, 0.8967],\n",
              "        [0.7264, 0.8436, 0.6172, 0.1475]])"
            ]
          },
          "metadata": {},
          "execution_count": 6
        }
      ]
    },
    {
      "cell_type": "code",
      "source": [
        " #Create random tensor with shape similar to image tensor\n",
        "\n",
        " random_image_size_tensor = torch.rand(size = (3, 224, 224)) #height, width, color channels (RGB)\n",
        " random_image_size_tensor.shape, random_image_size_tensor.ndim"
      ],
      "metadata": {
        "colab": {
          "base_uri": "https://localhost:8080/"
        },
        "id": "Nd5JqWz3dYMB",
        "outputId": "dea139a1-6597-451f-e33e-a6673fc4594e"
      },
      "execution_count": 7,
      "outputs": [
        {
          "output_type": "execute_result",
          "data": {
            "text/plain": [
              "(torch.Size([3, 224, 224]), 3)"
            ]
          },
          "metadata": {},
          "execution_count": 7
        }
      ]
    },
    {
      "cell_type": "markdown",
      "source": [
        "### Zeros and Ones Tensors"
      ],
      "metadata": {
        "id": "yu0a8QZEh8e8"
      }
    },
    {
      "cell_type": "code",
      "source": [
        "#Creating an all-zero tensor\n",
        "zeros = torch.zeros(3,4)\n",
        "zeros, zeros.dtype"
      ],
      "metadata": {
        "colab": {
          "base_uri": "https://localhost:8080/"
        },
        "id": "aAPuuOQRhLSf",
        "outputId": "c3082d6c-bc8c-477d-c50f-1adfa4c31819"
      },
      "execution_count": 8,
      "outputs": [
        {
          "output_type": "execute_result",
          "data": {
            "text/plain": [
              "(tensor([[0., 0., 0., 0.],\n",
              "         [0., 0., 0., 0.],\n",
              "         [0., 0., 0., 0.]]),\n",
              " torch.float32)"
            ]
          },
          "metadata": {},
          "execution_count": 8
        }
      ]
    },
    {
      "cell_type": "code",
      "source": [
        "ones = torch.ones(3,4)\n",
        "ones, ones.dtype"
      ],
      "metadata": {
        "colab": {
          "base_uri": "https://localhost:8080/"
        },
        "id": "R91Fb_MzlGKA",
        "outputId": "15b01180-7db5-4fa4-c40f-842a5792ee5e"
      },
      "execution_count": 9,
      "outputs": [
        {
          "output_type": "execute_result",
          "data": {
            "text/plain": [
              "(tensor([[1., 1., 1., 1.],\n",
              "         [1., 1., 1., 1.],\n",
              "         [1., 1., 1., 1.]]),\n",
              " torch.float32)"
            ]
          },
          "metadata": {},
          "execution_count": 9
        }
      ]
    },
    {
      "cell_type": "markdown",
      "source": [
        "### Range of Tensors and tensors-like"
      ],
      "metadata": {
        "id": "pslrPSM1lcWH"
      }
    },
    {
      "cell_type": "code",
      "source": [
        "#Creating range of tensors\n",
        "one2ten = torch.arange(start = 1,end = 10, step = 1)\n",
        "one2ten"
      ],
      "metadata": {
        "colab": {
          "base_uri": "https://localhost:8080/"
        },
        "id": "7k3oyQ3alP_s",
        "outputId": "a0b448e7-ccc1-49bb-faed-ef15acb3f5c1"
      },
      "execution_count": 10,
      "outputs": [
        {
          "output_type": "execute_result",
          "data": {
            "text/plain": [
              "tensor([1, 2, 3, 4, 5, 6, 7, 8, 9])"
            ]
          },
          "metadata": {},
          "execution_count": 10
        }
      ]
    },
    {
      "cell_type": "code",
      "source": [
        "#Creating tensors like\n",
        "\n",
        "ten_zeros = torch.zeros_like(input = one2ten)\n",
        "ten_zeros\n"
      ],
      "metadata": {
        "colab": {
          "base_uri": "https://localhost:8080/"
        },
        "id": "rQm0JzEllnsp",
        "outputId": "072a07f4-9627-48fe-90eb-b1cc105c0747"
      },
      "execution_count": 14,
      "outputs": [
        {
          "output_type": "execute_result",
          "data": {
            "text/plain": [
              "tensor([0, 0, 0, 0, 0, 0, 0, 0, 0])"
            ]
          },
          "metadata": {},
          "execution_count": 14
        }
      ]
    },
    {
      "cell_type": "code",
      "source": [
        "ten_ones = torch.ones_like(input = one2ten)\n",
        "ten_ones"
      ],
      "metadata": {
        "colab": {
          "base_uri": "https://localhost:8080/"
        },
        "id": "Xt8aICM6mmFQ",
        "outputId": "b7e132b1-52f9-4ab1-a983-f9124efd5904"
      },
      "execution_count": 15,
      "outputs": [
        {
          "output_type": "execute_result",
          "data": {
            "text/plain": [
              "tensor([1, 1, 1, 1, 1, 1, 1, 1, 1])"
            ]
          },
          "metadata": {},
          "execution_count": 15
        }
      ]
    },
    {
      "cell_type": "code",
      "source": [],
      "metadata": {
        "id": "_K4hIUulnBov"
      },
      "execution_count": null,
      "outputs": []
    }
  ]
}