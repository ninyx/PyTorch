{
  "nbformat": 4,
  "nbformat_minor": 0,
  "metadata": {
    "colab": {
      "provenance": []
    },
    "kernelspec": {
      "name": "python3",
      "display_name": "Python 3"
    },
    "language_info": {
      "name": "python"
    },
    "gpuClass": "standard"
  },
  "cells": [
    {
      "cell_type": "code",
      "source": [
        "import torch\n",
        "import pandas as pd\n",
        "import numpy as np\n",
        "import matplotlib.pyplot as plt"
      ],
      "metadata": {
        "id": "n-YwUXpJVTdD"
      },
      "execution_count": 1,
      "outputs": []
    },
    {
      "cell_type": "markdown",
      "source": [
        "## Introduction to Tensors"
      ],
      "metadata": {
        "id": "AxnaJ_BjVHph"
      }
    },
    {
      "cell_type": "code",
      "source": [
        "#Creating scalars\n",
        "scalar = torch.tensor(8)\n",
        "scalar.ndim #scalars have no dimensions\n",
        "\n",
        "#Get scalar as Python integer\n",
        "scalar.item()\n",
        "\n"
      ],
      "metadata": {
        "colab": {
          "base_uri": "https://localhost:8080/"
        },
        "id": "XGEvvQRrVMZL",
        "outputId": "ee8b7cb3-d152-4d5a-c10e-166d8b4776e9"
      },
      "execution_count": 2,
      "outputs": [
        {
          "output_type": "execute_result",
          "data": {
            "text/plain": [
              "8"
            ]
          },
          "metadata": {},
          "execution_count": 2
        }
      ]
    },
    {
      "cell_type": "code",
      "source": [
        "#Creating vectors\n",
        "\n",
        "vector = torch.tensor([7,7])\n",
        "vector.ndim # vectors has dimensions greater than or equal to 1 (number of pairs of brackets)\n",
        "vector.shape #the number of elements\n"
      ],
      "metadata": {
        "colab": {
          "base_uri": "https://localhost:8080/"
        },
        "id": "KF1eJ3JDWhaU",
        "outputId": "f780f4b2-1aac-49d2-cee6-0b0c02332cca"
      },
      "execution_count": 3,
      "outputs": [
        {
          "output_type": "execute_result",
          "data": {
            "text/plain": [
              "torch.Size([2])"
            ]
          },
          "metadata": {},
          "execution_count": 3
        }
      ]
    },
    {
      "cell_type": "code",
      "source": [
        "#Creating matrices\n",
        "\n",
        "MATRIX = torch.tensor([[7,7],\n",
        "                      [8,8],])\n",
        "\n",
        "MATRIX.ndim\n",
        "MATRIX[0] #accessing items in matrices similar to array \n",
        "MATRIX[1]\n",
        "MATRIX.shape"
      ],
      "metadata": {
        "colab": {
          "base_uri": "https://localhost:8080/"
        },
        "id": "3JwUK73BWzNU",
        "outputId": "d6510d7d-fa1c-4304-f786-0d039eeae674"
      },
      "execution_count": 4,
      "outputs": [
        {
          "output_type": "execute_result",
          "data": {
            "text/plain": [
              "torch.Size([2, 2])"
            ]
          },
          "metadata": {},
          "execution_count": 4
        }
      ]
    },
    {
      "cell_type": "code",
      "source": [
        "#Creating tensors\n",
        "\n",
        "TENSOR = torch.tensor([[[1,2,3,4],\n",
        "                        [4,5,6,4],\n",
        "                        [7,8,9,4]],\n",
        "                       [[1,2,3,4],\n",
        "                        [4,5,6,4],\n",
        "                        [7,8,9,4]],])\n",
        "\n",
        "TENSOR.ndim\n",
        "TENSOR.shape"
      ],
      "metadata": {
        "colab": {
          "base_uri": "https://localhost:8080/"
        },
        "id": "Mlt_wLJBYNKC",
        "outputId": "1d3f212f-f361-4e44-e94f-29152435ab8f"
      },
      "execution_count": 5,
      "outputs": [
        {
          "output_type": "execute_result",
          "data": {
            "text/plain": [
              "torch.Size([2, 3, 4])"
            ]
          },
          "metadata": {},
          "execution_count": 5
        }
      ]
    },
    {
      "cell_type": "markdown",
      "source": [
        "### Random tensors\n"
      ],
      "metadata": {
        "id": "uvV34HwRcjEc"
      }
    },
    {
      "cell_type": "code",
      "source": [
        "#Create random tensor with of tensor of size (3,4)\n",
        "random_tensor = torch.rand(3,4)\n",
        "random_tensor \n"
      ],
      "metadata": {
        "colab": {
          "base_uri": "https://localhost:8080/"
        },
        "id": "0RBmv0f2ZNWi",
        "outputId": "9b011ae4-375b-4a0e-bf34-12e3d15cf529"
      },
      "execution_count": 6,
      "outputs": [
        {
          "output_type": "execute_result",
          "data": {
            "text/plain": [
              "tensor([[0.9447, 0.4934, 0.5755, 0.1343],\n",
              "        [0.1258, 0.3062, 0.5892, 0.6148],\n",
              "        [0.0445, 0.8260, 0.1258, 0.7959]])"
            ]
          },
          "metadata": {},
          "execution_count": 6
        }
      ]
    },
    {
      "cell_type": "code",
      "source": [
        " #Create random tensor with shape similar to image tensor\n",
        "\n",
        " random_image_size_tensor = torch.rand(size = (3, 224, 224)) #height, width, color channels (RGB)\n",
        " random_image_size_tensor.shape, random_image_size_tensor.ndim"
      ],
      "metadata": {
        "colab": {
          "base_uri": "https://localhost:8080/"
        },
        "id": "Nd5JqWz3dYMB",
        "outputId": "3fd9de03-843a-4037-8955-bb203ee93620"
      },
      "execution_count": 7,
      "outputs": [
        {
          "output_type": "execute_result",
          "data": {
            "text/plain": [
              "(torch.Size([3, 224, 224]), 3)"
            ]
          },
          "metadata": {},
          "execution_count": 7
        }
      ]
    },
    {
      "cell_type": "markdown",
      "source": [
        "### Zeros and Ones Tensors"
      ],
      "metadata": {
        "id": "yu0a8QZEh8e8"
      }
    },
    {
      "cell_type": "code",
      "source": [
        "#Creating an all-zero tensor\n",
        "zeros = torch.zeros(3,4)\n",
        "zeros, zeros.dtype"
      ],
      "metadata": {
        "colab": {
          "base_uri": "https://localhost:8080/"
        },
        "id": "aAPuuOQRhLSf",
        "outputId": "12012136-2ec5-44a5-ee30-fee4ff8f5beb"
      },
      "execution_count": 8,
      "outputs": [
        {
          "output_type": "execute_result",
          "data": {
            "text/plain": [
              "(tensor([[0., 0., 0., 0.],\n",
              "         [0., 0., 0., 0.],\n",
              "         [0., 0., 0., 0.]]),\n",
              " torch.float32)"
            ]
          },
          "metadata": {},
          "execution_count": 8
        }
      ]
    },
    {
      "cell_type": "code",
      "source": [
        "ones = torch.ones(3,4)\n",
        "ones, ones.dtype"
      ],
      "metadata": {
        "colab": {
          "base_uri": "https://localhost:8080/"
        },
        "id": "R91Fb_MzlGKA",
        "outputId": "724697c8-3fd4-44cc-dd00-98805f4e4655"
      },
      "execution_count": 9,
      "outputs": [
        {
          "output_type": "execute_result",
          "data": {
            "text/plain": [
              "(tensor([[1., 1., 1., 1.],\n",
              "         [1., 1., 1., 1.],\n",
              "         [1., 1., 1., 1.]]),\n",
              " torch.float32)"
            ]
          },
          "metadata": {},
          "execution_count": 9
        }
      ]
    },
    {
      "cell_type": "markdown",
      "source": [
        "### Range of Tensors and tensors-like"
      ],
      "metadata": {
        "id": "pslrPSM1lcWH"
      }
    },
    {
      "cell_type": "code",
      "source": [
        "#Creating range of tensors\n",
        "one2ten = torch.arange(start = 1,end = 10, step = 1)\n",
        "one2ten"
      ],
      "metadata": {
        "colab": {
          "base_uri": "https://localhost:8080/"
        },
        "id": "7k3oyQ3alP_s",
        "outputId": "c4a2a00b-3014-4f0a-9378-05d0f7389fb1"
      },
      "execution_count": 10,
      "outputs": [
        {
          "output_type": "execute_result",
          "data": {
            "text/plain": [
              "tensor([1, 2, 3, 4, 5, 6, 7, 8, 9])"
            ]
          },
          "metadata": {},
          "execution_count": 10
        }
      ]
    },
    {
      "cell_type": "code",
      "source": [
        "#Creating tensors like\n",
        "\n",
        "ten_zeros = torch.zeros_like(input = one2ten)\n",
        "ten_zeros\n"
      ],
      "metadata": {
        "colab": {
          "base_uri": "https://localhost:8080/"
        },
        "id": "rQm0JzEllnsp",
        "outputId": "a1d08aa5-c19d-4179-fa06-6665359360aa"
      },
      "execution_count": 11,
      "outputs": [
        {
          "output_type": "execute_result",
          "data": {
            "text/plain": [
              "tensor([0, 0, 0, 0, 0, 0, 0, 0, 0])"
            ]
          },
          "metadata": {},
          "execution_count": 11
        }
      ]
    },
    {
      "cell_type": "code",
      "source": [
        "ten_ones = torch.ones_like(input = one2ten)\n",
        "ten_ones"
      ],
      "metadata": {
        "colab": {
          "base_uri": "https://localhost:8080/"
        },
        "id": "Xt8aICM6mmFQ",
        "outputId": "0c6bb99d-d679-49c6-9d0a-06778f6f0847"
      },
      "execution_count": 12,
      "outputs": [
        {
          "output_type": "execute_result",
          "data": {
            "text/plain": [
              "tensor([1, 1, 1, 1, 1, 1, 1, 1, 1])"
            ]
          },
          "metadata": {},
          "execution_count": 12
        }
      ]
    },
    {
      "cell_type": "markdown",
      "source": [
        "## Tensor Datatypes\n"
      ],
      "metadata": {
        "id": "CAcOQ5wcn-Sm"
      }
    },
    {
      "cell_type": "code",
      "source": [
        "#Creating tensors with different datatypes\n",
        "\n",
        "# datatype is essential to precision in computing \n",
        "# default tensor datatype is float32 even if set to None\n",
        "float32_tensor = torch.tensor([3.0, 6.0, 9.0], \n",
        "                              dtype = None, #datatype of tensor\n",
        "                              device = None, #cpu or gpu\n",
        "                              requires_grad = False) #whether or not to track gradience with calculations \n",
        "\n",
        "#\n",
        "float32_tensor, float32_tensor.dtype"
      ],
      "metadata": {
        "colab": {
          "base_uri": "https://localhost:8080/"
        },
        "id": "_K4hIUulnBov",
        "outputId": "b8a097b7-2e82-497b-bb64-2ed1b5c12d16"
      },
      "execution_count": 13,
      "outputs": [
        {
          "output_type": "execute_result",
          "data": {
            "text/plain": [
              "(tensor([3., 6., 9.]), torch.float32)"
            ]
          },
          "metadata": {},
          "execution_count": 13
        }
      ]
    },
    {
      "cell_type": "code",
      "source": [
        "float16_tensor = torch.tensor([3.0, 6.0, 9.0], dtype = torch.float16) \n",
        "\n",
        "float16_tensor, float16_tensor.dtype\n",
        "\n"
      ],
      "metadata": {
        "colab": {
          "base_uri": "https://localhost:8080/"
        },
        "id": "XnsIB9z4obZs",
        "outputId": "c2f96352-d8d8-407e-a675-82ff7bdbf21d"
      },
      "execution_count": 14,
      "outputs": [
        {
          "output_type": "execute_result",
          "data": {
            "text/plain": [
              "(tensor([3., 6., 9.], dtype=torch.float16), torch.float16)"
            ]
          },
          "metadata": {},
          "execution_count": 14
        }
      ]
    },
    {
      "cell_type": "code",
      "source": [
        "float16_tensor = float32_tensor.type(torch.float16)\n",
        "\n",
        "float16_tensor, float16_tensor.dtype"
      ],
      "metadata": {
        "colab": {
          "base_uri": "https://localhost:8080/"
        },
        "id": "myj2zr3povP_",
        "outputId": "281e3350-6ee3-416e-ff86-3da90cf04cd4"
      },
      "execution_count": 15,
      "outputs": [
        {
          "output_type": "execute_result",
          "data": {
            "text/plain": [
              "(tensor([3., 6., 9.], dtype=torch.float16), torch.float16)"
            ]
          },
          "metadata": {},
          "execution_count": 15
        }
      ]
    },
    {
      "cell_type": "markdown",
      "source": [
        "### Tensor Attributes"
      ],
      "metadata": {
        "id": "k41xJoNkcL4P"
      }
    },
    {
      "cell_type": "code",
      "source": [
        "#Create some tensor\n",
        "\n",
        "some_tensor = torch.rand(4,3)\n",
        "\n",
        "print(some_tensor)\n",
        "print(f'Datatype of tensor: {some_tensor.dtype}')\n",
        "print(f'Shape of tensor: {some_tensor.shape}')\n",
        "print(f'Device tensor is on: {some_tensor.device}')"
      ],
      "metadata": {
        "id": "Vl16RZ0AqkWj",
        "colab": {
          "base_uri": "https://localhost:8080/"
        },
        "outputId": "c41845c7-9f7f-4785-95da-ec3a8fc31f1a"
      },
      "execution_count": 16,
      "outputs": [
        {
          "output_type": "stream",
          "name": "stdout",
          "text": [
            "tensor([[0.9242, 0.9462, 0.8871],\n",
            "        [0.0035, 0.6905, 0.7639],\n",
            "        [0.8581, 0.9169, 0.8354],\n",
            "        [0.2214, 0.0164, 0.9725]])\n",
            "Datatype of tensor: torch.float32\n",
            "Shape of tensor: torch.Size([4, 3])\n",
            "Device tensor is on: cpu\n"
          ]
        }
      ]
    },
    {
      "cell_type": "markdown",
      "source": [
        "### Tensor Operations\n",
        "(element - wise)\n",
        "- Addition\n",
        "- Subtraction\n",
        "- Multiplication (element - wise)\n",
        "- Division\n",
        "\n",
        "By Matrix\n",
        "- Matrix Multiplication"
      ],
      "metadata": {
        "id": "f9NLb7fYy-5d"
      }
    },
    {
      "cell_type": "code",
      "source": [
        "# Tensor Operation (element - wise)\n",
        "\n",
        "tensor = torch.tensor([1,2,3])\n",
        "print(tensor + 10) #addition torch.add\n",
        "print(tensor - 10) #subtraction torch.sub\n",
        "print(tensor * 10) #multiplication torch.mul\n",
        "print(tensor / 10) #division torch.div"
      ],
      "metadata": {
        "colab": {
          "base_uri": "https://localhost:8080/"
        },
        "id": "b0-5WkEHc0Hq",
        "outputId": "f634fea3-028e-4a51-fb70-c5a32e23628c"
      },
      "execution_count": 17,
      "outputs": [
        {
          "output_type": "stream",
          "name": "stdout",
          "text": [
            "tensor([11, 12, 13])\n",
            "tensor([-9, -8, -7])\n",
            "tensor([10, 20, 30])\n",
            "tensor([0.1000, 0.2000, 0.3000])\n"
          ]
        }
      ]
    },
    {
      "cell_type": "code",
      "source": [
        "# Matrix Multiplication (dot product)\n",
        "print(torch.matmul(tensor, tensor)) #can also be torch.mm()"
      ],
      "metadata": {
        "colab": {
          "base_uri": "https://localhost:8080/"
        },
        "id": "INh70gceAa0O",
        "outputId": "398a7b02-c9dd-44ad-b756-496a470f1f9b"
      },
      "execution_count": 18,
      "outputs": [
        {
          "output_type": "stream",
          "name": "stdout",
          "text": [
            "tensor(14)\n"
          ]
        }
      ]
    },
    {
      "cell_type": "markdown",
      "source": [
        "### Tensor Aggregation"
      ],
      "metadata": {
        "id": "aaXQmr608p-K"
      }
    },
    {
      "cell_type": "code",
      "source": [
        "#Create a tensor\n",
        "range_tensor = torch.arange(0,1000,100)\n",
        "print(torch.min(range_tensor), range_tensor.min()) #finding min value in tensor\n",
        "print(torch.max(range_tensor), range_tensor.max()) #finding max value in tensor\n",
        "print(torch.mean(range_tensor.type(torch.float32)), range_tensor.type(torch.float32).mean()) #mean of tensor (has to be float32 datatype)\n",
        "print(torch.sum(range_tensor), range_tensor.sum()) #sum of all the items in range_tensor"
      ],
      "metadata": {
        "colab": {
          "base_uri": "https://localhost:8080/"
        },
        "id": "qSwT_hUu81m1",
        "outputId": "415d8389-592a-486b-e95e-36d76c7421f7"
      },
      "execution_count": 22,
      "outputs": [
        {
          "output_type": "stream",
          "name": "stdout",
          "text": [
            "tensor(0) tensor(0)\n",
            "tensor(900) tensor(900)\n",
            "tensor(450.) tensor(450.)\n",
            "tensor(4500) tensor(4500)\n"
          ]
        }
      ]
    },
    {
      "cell_type": "code",
      "source": [
        "#Create a tensor\n",
        "range_tensor = torch.arange(0,1000,100)\n",
        "print(torch.argmin(range_tensor), range_tensor.argmin()) #finding index of min value in tensor\n",
        "print(torch.argmax(range_tensor), range_tensor.argmax()) #finding index of max value in tensor\n"
      ],
      "metadata": {
        "colab": {
          "base_uri": "https://localhost:8080/"
        },
        "outputId": "fb6d9b6d-2870-4da2-9632-c3b110c34aa4",
        "id": "MHC17aVc_bFL"
      },
      "execution_count": 24,
      "outputs": [
        {
          "output_type": "stream",
          "name": "stdout",
          "text": [
            "tensor(0) tensor(0)\n",
            "tensor(9) tensor(9)\n",
            "tensor(450.) tensor(450.)\n",
            "tensor(4500) tensor(4500)\n"
          ]
        }
      ]
    },
    {
      "cell_type": "markdown",
      "source": [
        "### Reshsaping, viewing, stacking, squeezing, unsqueezing, permuting tensors\n",
        "\n",
        "- Reshaping - change shape (reshape) tensor to desired shape\n",
        "- Viewing - return view of intput tensor at certain shape but retain memory location\n",
        "- Stacking - combining multiple tensors horizontally, vertically, etc.\n",
        "- Squeeze - removes 1 dimension to tensor\n",
        "- Unsqueeze - adds 1 dimension to tensor\n",
        "- Permute - return view of tensor with dimensions swapped in certain way"
      ],
      "metadata": {
        "id": "AcFsuWUbBgeJ"
      }
    },
    {
      "cell_type": "code",
      "source": [
        "#reimport tensor to avoid rerunning all cells\n",
        "import torch\n",
        "\n",
        "range_tensor1 = torch.arange(0., 100., 10.)\n",
        "print(range_tensor1, range_tensor1.shape)\n",
        "\n",
        "#Reshape (compatible with original shape (factor of original shape))\n",
        "\n",
        "print(torch.reshape(range_tensor1, (1,2,5)), torch.reshape(range_tensor1, (10,1))) #can also be range_tensor1.reshape(enter desired shape)\n",
        "\n",
        "#Change view (will affect the original if values are changed etc.)\n",
        "print(range_tensor1.view(1,2,5), range_tensor1.view(10,1)) \n",
        "\n",
        "#Stack the tensors\n",
        "range_stacked = torch.stack([torch.arange(10),torch.arange(10),torch.arange(10)], dim = 0)\n",
        "print(range_stacked, range_stacked.shape)"
      ],
      "metadata": {
        "colab": {
          "base_uri": "https://localhost:8080/"
        },
        "id": "AlPCMVyGDaOI",
        "outputId": "3976aaa4-a88c-4d1b-c5cf-857fac85279f"
      },
      "execution_count": 7,
      "outputs": [
        {
          "output_type": "stream",
          "name": "stdout",
          "text": [
            "tensor([ 0., 10., 20., 30., 40., 50., 60., 70., 80., 90.]) torch.Size([10])\n",
            "tensor([[[ 0., 10., 20., 30., 40.],\n",
            "         [50., 60., 70., 80., 90.]]]) tensor([[ 0.],\n",
            "        [10.],\n",
            "        [20.],\n",
            "        [30.],\n",
            "        [40.],\n",
            "        [50.],\n",
            "        [60.],\n",
            "        [70.],\n",
            "        [80.],\n",
            "        [90.]])\n",
            "tensor([[[ 0., 10., 20., 30., 40.],\n",
            "         [50., 60., 70., 80., 90.]]]) tensor([[ 0.],\n",
            "        [10.],\n",
            "        [20.],\n",
            "        [30.],\n",
            "        [40.],\n",
            "        [50.],\n",
            "        [60.],\n",
            "        [70.],\n",
            "        [80.],\n",
            "        [90.]])\n",
            "tensor([[0, 1, 2, 3, 4, 5, 6, 7, 8, 9],\n",
            "        [0, 1, 2, 3, 4, 5, 6, 7, 8, 9],\n",
            "        [0, 1, 2, 3, 4, 5, 6, 7, 8, 9]]) torch.Size([3, 10])\n"
          ]
        }
      ]
    },
    {
      "cell_type": "code",
      "source": [
        "#Squeeze tensor - \n",
        "print(range_stacked.squeeze(), range_stacked.squeeze().shape)\n",
        "print(torch.reshape(range_tensor1, (1,2,5)).squeeze(), torch.reshape(range_tensor1, (1,2,5)).squeeze().shape)\n",
        "      \n",
        "#Unsqueeze\n",
        "print(range_stacked.unsqueeze(dim = 0), range_stacked.unsqueeze(dim = 0).shape)\n",
        "print(range_stacked.unsqueeze(dim = 1), range_stacked.unsqueeze(dim = 1).shape)\n",
        "\n",
        "#Permute\n",
        "pic_original = torch.rand(3, 244,244)\n",
        "print(pic_original, pic_original.shape)\n",
        "print(pic_original.permute(1, 2, 0), pic_original.permute(1, 2, 0).shape )"
      ],
      "metadata": {
        "colab": {
          "base_uri": "https://localhost:8080/"
        },
        "id": "k6ZOerh4FVHD",
        "outputId": "c5561558-249c-45c6-ac32-34ed648b23d1"
      },
      "execution_count": 16,
      "outputs": [
        {
          "output_type": "stream",
          "name": "stdout",
          "text": [
            "tensor([[0, 1, 2, 3, 4, 5, 6, 7, 8, 9],\n",
            "        [0, 1, 2, 3, 4, 5, 6, 7, 8, 9],\n",
            "        [0, 1, 2, 3, 4, 5, 6, 7, 8, 9]]) torch.Size([3, 10])\n",
            "tensor([[ 0., 10., 20., 30., 40.],\n",
            "        [50., 60., 70., 80., 90.]]) torch.Size([2, 5])\n",
            "tensor([[[0, 1, 2, 3, 4, 5, 6, 7, 8, 9],\n",
            "         [0, 1, 2, 3, 4, 5, 6, 7, 8, 9],\n",
            "         [0, 1, 2, 3, 4, 5, 6, 7, 8, 9]]]) torch.Size([1, 3, 10])\n",
            "tensor([[[0, 1, 2, 3, 4, 5, 6, 7, 8, 9]],\n",
            "\n",
            "        [[0, 1, 2, 3, 4, 5, 6, 7, 8, 9]],\n",
            "\n",
            "        [[0, 1, 2, 3, 4, 5, 6, 7, 8, 9]]]) torch.Size([3, 1, 10])\n",
            "tensor([[[0.8586, 0.8045, 0.7228,  ..., 0.6258, 0.7700, 0.5859],\n",
            "         [0.3509, 0.5674, 0.6243,  ..., 0.6281, 0.8158, 0.4374],\n",
            "         [0.6642, 0.0200, 0.8798,  ..., 0.3607, 0.2043, 0.4587],\n",
            "         ...,\n",
            "         [0.7668, 0.6209, 0.9953,  ..., 0.5648, 0.5308, 0.5135],\n",
            "         [0.8691, 0.7274, 0.4114,  ..., 0.3924, 0.8230, 0.9304],\n",
            "         [0.4158, 0.4827, 0.9777,  ..., 0.4567, 0.9310, 0.6230]],\n",
            "\n",
            "        [[0.8306, 0.3842, 0.5134,  ..., 0.8044, 0.4719, 0.3783],\n",
            "         [0.8297, 0.0634, 0.0492,  ..., 0.7534, 0.2116, 0.3786],\n",
            "         [0.6028, 0.2266, 0.9594,  ..., 0.1910, 0.3626, 0.3183],\n",
            "         ...,\n",
            "         [0.4630, 0.8019, 0.4960,  ..., 0.3121, 0.8190, 0.3378],\n",
            "         [0.9693, 0.8711, 0.2103,  ..., 0.4801, 0.1849, 0.2452],\n",
            "         [0.3522, 0.3399, 0.2890,  ..., 0.8059, 0.9524, 0.1214]],\n",
            "\n",
            "        [[0.8995, 0.5023, 0.8148,  ..., 0.4115, 0.7238, 0.3255],\n",
            "         [0.8026, 0.9729, 0.2805,  ..., 0.8175, 0.9379, 0.3428],\n",
            "         [0.3238, 0.0741, 0.5742,  ..., 0.5756, 0.3113, 0.7478],\n",
            "         ...,\n",
            "         [0.3983, 0.9433, 0.4947,  ..., 0.6541, 0.7567, 0.4601],\n",
            "         [0.6255, 0.9461, 0.8300,  ..., 0.2547, 0.0902, 0.9687],\n",
            "         [0.5236, 0.4317, 0.3144,  ..., 0.7320, 0.4807, 0.7406]]]) torch.Size([3, 244, 244])\n",
            "tensor([[[0.8586, 0.8306, 0.8995],\n",
            "         [0.8045, 0.3842, 0.5023],\n",
            "         [0.7228, 0.5134, 0.8148],\n",
            "         ...,\n",
            "         [0.6258, 0.8044, 0.4115],\n",
            "         [0.7700, 0.4719, 0.7238],\n",
            "         [0.5859, 0.3783, 0.3255]],\n",
            "\n",
            "        [[0.3509, 0.8297, 0.8026],\n",
            "         [0.5674, 0.0634, 0.9729],\n",
            "         [0.6243, 0.0492, 0.2805],\n",
            "         ...,\n",
            "         [0.6281, 0.7534, 0.8175],\n",
            "         [0.8158, 0.2116, 0.9379],\n",
            "         [0.4374, 0.3786, 0.3428]],\n",
            "\n",
            "        [[0.6642, 0.6028, 0.3238],\n",
            "         [0.0200, 0.2266, 0.0741],\n",
            "         [0.8798, 0.9594, 0.5742],\n",
            "         ...,\n",
            "         [0.3607, 0.1910, 0.5756],\n",
            "         [0.2043, 0.3626, 0.3113],\n",
            "         [0.4587, 0.3183, 0.7478]],\n",
            "\n",
            "        ...,\n",
            "\n",
            "        [[0.7668, 0.4630, 0.3983],\n",
            "         [0.6209, 0.8019, 0.9433],\n",
            "         [0.9953, 0.4960, 0.4947],\n",
            "         ...,\n",
            "         [0.5648, 0.3121, 0.6541],\n",
            "         [0.5308, 0.8190, 0.7567],\n",
            "         [0.5135, 0.3378, 0.4601]],\n",
            "\n",
            "        [[0.8691, 0.9693, 0.6255],\n",
            "         [0.7274, 0.8711, 0.9461],\n",
            "         [0.4114, 0.2103, 0.8300],\n",
            "         ...,\n",
            "         [0.3924, 0.4801, 0.2547],\n",
            "         [0.8230, 0.1849, 0.0902],\n",
            "         [0.9304, 0.2452, 0.9687]],\n",
            "\n",
            "        [[0.4158, 0.3522, 0.5236],\n",
            "         [0.4827, 0.3399, 0.4317],\n",
            "         [0.9777, 0.2890, 0.3144],\n",
            "         ...,\n",
            "         [0.4567, 0.8059, 0.7320],\n",
            "         [0.9310, 0.9524, 0.4807],\n",
            "         [0.6230, 0.1214, 0.7406]]]) torch.Size([244, 244, 3])\n"
          ]
        }
      ]
    },
    {
      "cell_type": "code",
      "source": [],
      "metadata": {
        "id": "qY8LCs4hBXrF"
      },
      "execution_count": null,
      "outputs": []
    }
  ]
}