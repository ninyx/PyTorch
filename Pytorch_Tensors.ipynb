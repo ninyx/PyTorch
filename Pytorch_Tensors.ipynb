{
  "nbformat": 4,
  "nbformat_minor": 0,
  "metadata": {
    "colab": {
      "provenance": []
    },
    "kernelspec": {
      "name": "python3",
      "display_name": "Python 3"
    },
    "language_info": {
      "name": "python"
    },
    "gpuClass": "standard"
  },
  "cells": [
    {
      "cell_type": "code",
      "source": [
        "import torch\n",
        "import pandas as pd\n",
        "import numpy as np\n",
        "import matplotlib.pyplot as plt"
      ],
      "metadata": {
        "id": "n-YwUXpJVTdD"
      },
      "execution_count": 2,
      "outputs": []
    },
    {
      "cell_type": "markdown",
      "source": [
        "## Introduction to Tensors"
      ],
      "metadata": {
        "id": "AxnaJ_BjVHph"
      }
    },
    {
      "cell_type": "code",
      "source": [
        "#Creating scalars\n",
        "scalar = torch.tensor(8)\n",
        "scalar.ndim #scalars have no dimensions\n",
        "\n",
        "#Get scalar as Python integer\n",
        "scalar.item()\n",
        "\n"
      ],
      "metadata": {
        "colab": {
          "base_uri": "https://localhost:8080/"
        },
        "id": "XGEvvQRrVMZL",
        "outputId": "541d1770-337f-4a4d-a8dc-9bf900c51aad"
      },
      "execution_count": 7,
      "outputs": [
        {
          "output_type": "execute_result",
          "data": {
            "text/plain": [
              "8"
            ]
          },
          "metadata": {},
          "execution_count": 7
        }
      ]
    },
    {
      "cell_type": "code",
      "source": [
        "#Creating vectors\n",
        "\n",
        "vector = torch.tensor([7,7])\n",
        "vector.ndim # vectors has dimensions greater than or equal to 1 (number of pairs of brackets)\n",
        "vector.shape #the number of elements\n"
      ],
      "metadata": {
        "colab": {
          "base_uri": "https://localhost:8080/"
        },
        "id": "KF1eJ3JDWhaU",
        "outputId": "10b78029-a355-4cd9-858a-e3ef5d36d35e"
      },
      "execution_count": 10,
      "outputs": [
        {
          "output_type": "execute_result",
          "data": {
            "text/plain": [
              "torch.Size([2])"
            ]
          },
          "metadata": {},
          "execution_count": 10
        }
      ]
    },
    {
      "cell_type": "code",
      "source": [
        "#Creating matrices\n",
        "\n",
        "matrix = torch.tensor([[7,7],\n",
        "                      [8,8],])\n",
        "\n",
        "matrix.ndim\n",
        "matrix[0] #accessing items in matrices similar to array \n",
        "matrix[1]\n",
        "matrix.shape"
      ],
      "metadata": {
        "colab": {
          "base_uri": "https://localhost:8080/"
        },
        "id": "3JwUK73BWzNU",
        "outputId": "51c30118-6bca-47af-fee8-e91cd566fb67"
      },
      "execution_count": 9,
      "outputs": [
        {
          "output_type": "execute_result",
          "data": {
            "text/plain": [
              "torch.Size([2, 2])"
            ]
          },
          "metadata": {},
          "execution_count": 9
        }
      ]
    },
    {
      "cell_type": "code",
      "source": [
        "#Creating tensors\n",
        "\n",
        "tensor = torch.tensor([[[1,2,3,4],\n",
        "                        [4,5,6,4],\n",
        "                        [7,8,9,4]],\n",
        "                       [[1,2,3,4],\n",
        "                        [4,5,6,4],\n",
        "                        [7,8,9,4]],])\n",
        "\n",
        "tensor.ndim\n",
        "tensor.shape"
      ],
      "metadata": {
        "colab": {
          "base_uri": "https://localhost:8080/"
        },
        "id": "Mlt_wLJBYNKC",
        "outputId": "75d2b5ba-8f6c-4a4f-9493-0613804af52b"
      },
      "execution_count": 14,
      "outputs": [
        {
          "output_type": "execute_result",
          "data": {
            "text/plain": [
              "torch.Size([2, 3, 4])"
            ]
          },
          "metadata": {},
          "execution_count": 14
        }
      ]
    },
    {
      "cell_type": "code",
      "source": [],
      "metadata": {
        "id": "0RBmv0f2ZNWi"
      },
      "execution_count": null,
      "outputs": []
    }
  ]
}