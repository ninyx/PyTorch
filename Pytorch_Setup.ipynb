{
  "nbformat": 4,
  "nbformat_minor": 0,
  "metadata": {
    "colab": {
      "provenance": [],
      "authorship_tag": "ABX9TyN0rn4O3eLDYXQZOL68jkcK",
      "include_colab_link": true
    },
    "kernelspec": {
      "name": "python3",
      "display_name": "Python 3"
    },
    "language_info": {
      "name": "python"
    },
    "accelerator": "GPU",
    "gpuClass": "standard"
  },
  "cells": [
    {
      "cell_type": "markdown",
      "metadata": {
        "id": "view-in-github",
        "colab_type": "text"
      },
      "source": [
        "<a href=\"https://colab.research.google.com/github/ninyx/PyTorch/blob/master/Pytorch_Setup.ipynb\" target=\"_parent\"><img src=\"https://colab.research.google.com/assets/colab-badge.svg\" alt=\"Open In Colab\"/></a>"
      ]
    },
    {
      "cell_type": "markdown",
      "source": [
        "# Setting up Colab for PyTorch"
      ],
      "metadata": {
        "id": "FX5Y4OWr6myj"
      }
    },
    {
      "cell_type": "markdown",
      "source": [
        "### Check available GPU"
      ],
      "metadata": {
        "id": "2dY3g1IE6ulg"
      }
    },
    {
      "cell_type": "code",
      "execution_count": 1,
      "metadata": {
        "colab": {
          "base_uri": "https://localhost:8080/"
        },
        "id": "-gkcbily2hAG",
        "outputId": "2579eeef-4685-4a9d-d85e-457d7a4c11f3"
      },
      "outputs": [
        {
          "output_type": "stream",
          "name": "stdout",
          "text": [
            "Fri Apr 14 14:28:03 2023       \n",
            "+-----------------------------------------------------------------------------+\n",
            "| NVIDIA-SMI 525.85.12    Driver Version: 525.85.12    CUDA Version: 12.0     |\n",
            "|-------------------------------+----------------------+----------------------+\n",
            "| GPU  Name        Persistence-M| Bus-Id        Disp.A | Volatile Uncorr. ECC |\n",
            "| Fan  Temp  Perf  Pwr:Usage/Cap|         Memory-Usage | GPU-Util  Compute M. |\n",
            "|                               |                      |               MIG M. |\n",
            "|===============================+======================+======================|\n",
            "|   0  Tesla T4            Off  | 00000000:00:04.0 Off |                    0 |\n",
            "| N/A   39C    P8     9W /  70W |      0MiB / 15360MiB |      0%      Default |\n",
            "|                               |                      |                  N/A |\n",
            "+-------------------------------+----------------------+----------------------+\n",
            "                                                                               \n",
            "+-----------------------------------------------------------------------------+\n",
            "| Processes:                                                                  |\n",
            "|  GPU   GI   CI        PID   Type   Process name                  GPU Memory |\n",
            "|        ID   ID                                                   Usage      |\n",
            "|=============================================================================|\n",
            "|  No running processes found                                                 |\n",
            "+-----------------------------------------------------------------------------+\n"
          ]
        }
      ],
      "source": [
        "!nvidia-smi"
      ]
    },
    {
      "cell_type": "markdown",
      "source": [
        "### Check GPU Access for PyTorch"
      ],
      "metadata": {
        "id": "eMIvoYfH67jB"
      }
    },
    {
      "cell_type": "code",
      "source": [
        "import torch\n",
        "import numpy as np\n",
        "\n",
        "torch.cuda.is_available()"
      ],
      "metadata": {
        "colab": {
          "base_uri": "https://localhost:8080/"
        },
        "id": "GJRdTzqH7ESl",
        "outputId": "30d1fad2-27e8-4864-aeaa-7f332f6f9ae1"
      },
      "execution_count": 2,
      "outputs": [
        {
          "output_type": "execute_result",
          "data": {
            "text/plain": [
              "True"
            ]
          },
          "metadata": {},
          "execution_count": 2
        }
      ]
    },
    {
      "cell_type": "code",
      "source": [
        "#Set up device agnostic code\n",
        "device = \"cuda\" if torch.cuda.is_available() else \"cpu\"\n",
        "device"
      ],
      "metadata": {
        "colab": {
          "base_uri": "https://localhost:8080/",
          "height": 35
        },
        "id": "HtVixgAq7Mkg",
        "outputId": "02dd3b16-c99c-431f-9edd-52d22c97a673"
      },
      "execution_count": 3,
      "outputs": [
        {
          "output_type": "execute_result",
          "data": {
            "text/plain": [
              "'cuda'"
            ],
            "application/vnd.google.colaboratory.intrinsic+json": {
              "type": "string"
            }
          },
          "metadata": {},
          "execution_count": 3
        }
      ]
    },
    {
      "cell_type": "markdown",
      "source": [
        "### Putting tensors and models in GPU"
      ],
      "metadata": {
        "id": "XYrAuoQb9ICH"
      }
    },
    {
      "cell_type": "code",
      "source": [
        "#Create tensor in CPU\n",
        "tensor = torch.tensor([1,2,3])\n",
        "\n",
        "#Check device of tensor\n",
        "print(tensor, tensor.device)\n",
        "\n",
        "#Move tensor to GPU (if available)\n",
        "tensor_on_gpu = tensor.to(device)\n",
        "print(tensor_on_gpu)\n",
        "\n",
        "#Move it back to CPU\n",
        "tensor_on_cpu = tensor_on_gpu.cpu().numpy()\n",
        "print(tensor_on_cpu)"
      ],
      "metadata": {
        "colab": {
          "base_uri": "https://localhost:8080/"
        },
        "id": "KM2kIu0p7bWc",
        "outputId": "cdd09879-7043-4bc1-b411-05d379ddcd1d"
      },
      "execution_count": 4,
      "outputs": [
        {
          "output_type": "stream",
          "name": "stdout",
          "text": [
            "tensor([1, 2, 3]) cpu\n",
            "tensor([1, 2, 3], device='cuda:0')\n",
            "[1 2 3]\n"
          ]
        }
      ]
    },
    {
      "cell_type": "markdown",
      "source": [
        "# End-to-end PyTorch Workflow"
      ],
      "metadata": {
        "id": "CxhtAI_z-sec"
      }
    },
    {
      "cell_type": "code",
      "source": [
        "to_be_covered = {1: 'data prep and load',\n",
        "                 2: 'build model',\n",
        "                 3: 'fitting/training model to data',\n",
        "                 4: 'predict and eval model',\n",
        "                 5: 'save and load model',\n",
        "                 6: 'put all together'}"
      ],
      "metadata": {
        "id": "tVZezScA9MfJ"
      },
      "execution_count": 5,
      "outputs": []
    },
    {
      "cell_type": "code",
      "source": [
        "import torch\n",
        "from torch import nn # torch neural networks (nn)\n",
        "import matplotlib.pyplot as plt\n",
        "\n",
        "print(torch.__version__)\n"
      ],
      "metadata": {
        "colab": {
          "base_uri": "https://localhost:8080/"
        },
        "id": "j0qQYAve95re",
        "outputId": "a7a93568-eea8-4bfa-b7bb-18eeeeab80de"
      },
      "execution_count": 6,
      "outputs": [
        {
          "output_type": "stream",
          "name": "stdout",
          "text": [
            "2.0.0+cu118\n"
          ]
        }
      ]
    },
    {
      "cell_type": "markdown",
      "source": [
        "### Data Prep and Loading"
      ],
      "metadata": {
        "id": "4L4krajFTYsc"
      }
    },
    {
      "cell_type": "code",
      "source": [
        "#Create known data using linear regression to make a straight line with known parameters\n",
        "\n",
        "#y = ax + b\n",
        "weight = 0.7 #a \n",
        "bias = 0.3 #b\n",
        "\n",
        "#build a model to estimate weight and bias\n",
        "start = 0\n",
        "end = 1\n",
        "step = 0.01\n",
        "X = torch.arange(start, end, step).unsqueeze(dim = 1)\n",
        "y = weight * X + bias\n",
        "\n",
        "print(X[:20], y[:20], len(X), len(y))"
      ],
      "metadata": {
        "id": "MzLPDQuevCfV",
        "colab": {
          "base_uri": "https://localhost:8080/"
        },
        "outputId": "7dc70c1c-f9a5-4da7-ad7d-22ad51a6af8e"
      },
      "execution_count": 7,
      "outputs": [
        {
          "output_type": "stream",
          "name": "stdout",
          "text": [
            "tensor([[0.0000],\n",
            "        [0.0100],\n",
            "        [0.0200],\n",
            "        [0.0300],\n",
            "        [0.0400],\n",
            "        [0.0500],\n",
            "        [0.0600],\n",
            "        [0.0700],\n",
            "        [0.0800],\n",
            "        [0.0900],\n",
            "        [0.1000],\n",
            "        [0.1100],\n",
            "        [0.1200],\n",
            "        [0.1300],\n",
            "        [0.1400],\n",
            "        [0.1500],\n",
            "        [0.1600],\n",
            "        [0.1700],\n",
            "        [0.1800],\n",
            "        [0.1900]]) tensor([[0.3000],\n",
            "        [0.3070],\n",
            "        [0.3140],\n",
            "        [0.3210],\n",
            "        [0.3280],\n",
            "        [0.3350],\n",
            "        [0.3420],\n",
            "        [0.3490],\n",
            "        [0.3560],\n",
            "        [0.3630],\n",
            "        [0.3700],\n",
            "        [0.3770],\n",
            "        [0.3840],\n",
            "        [0.3910],\n",
            "        [0.3980],\n",
            "        [0.4050],\n",
            "        [0.4120],\n",
            "        [0.4190],\n",
            "        [0.4260],\n",
            "        [0.4330]]) 100 100\n"
          ]
        }
      ]
    },
    {
      "cell_type": "code",
      "source": [
        "#Splitting data (X) for training and test set\n",
        "for_train = int(0.8 * len(X)) # using 80-20 ratio for training and datasets\n",
        "\n",
        "Xtrain, ytrain = X[:for_train], y[:for_train]\n",
        "Xtest, ytest = X[for_train:], y[for_train:]\n"
      ],
      "metadata": {
        "id": "YPv74-kRWZdZ"
      },
      "execution_count": 8,
      "outputs": []
    },
    {
      "cell_type": "code",
      "source": [
        "#Build visualization func for dataset\n",
        "def plt_predict(train_data = Xtrain,\n",
        "                train_label = ytrain,\n",
        "                test_data = Xtest,\n",
        "                test_label = ytest,\n",
        "                predictions = None):\n",
        "  \"Plot training data, test data and compare to predictions\"\n",
        "  plt.figure(figsize = (10,7))\n",
        "  #Training data in blue\n",
        "  plt.scatter(train_data, train_label, c = \"b\", s = 4, label = \"Training data\")\n",
        "\n",
        "  #Test data in green\n",
        "  plt.scatter(test_data, test_label, c = \"g\", s = 4, label = \"Testing data\")\n",
        "\n",
        "  if predictions is not None:\n",
        "    #plot predictions\n",
        "    plt.scatter(test_data, predictions, c = \"r\", s = 4, label = \"Predictions\")\n",
        "  \n",
        "  plt.legend(prop = {\"size\": 14})\n",
        "\n",
        "\n"
      ],
      "metadata": {
        "id": "_BUt_XUqdFUw"
      },
      "execution_count": 9,
      "outputs": []
    },
    {
      "cell_type": "code",
      "source": [
        "plt_predict()"
      ],
      "metadata": {
        "colab": {
          "base_uri": "https://localhost:8080/",
          "height": 510
        },
        "id": "FLkrHut4e2mu",
        "outputId": "9fc70639-2c17-4bac-faf9-1a1337e84d43"
      },
      "execution_count": 10,
      "outputs": [
        {
          "output_type": "display_data",
          "data": {
            "text/plain": [
              "<Figure size 1000x700 with 1 Axes>"
            ],
            "image/png": "[encoded data removed]"
          },
          "metadata": {}
        }
      ]
    },
    {
      "cell_type": "markdown",
      "source": [
        "### Creating Model to learn patterns in training data."
      ],
      "metadata": {
        "id": "QFQerYwnfXlF"
      }
    },
    {
      "cell_type": "code",
      "source": [
        "from torch import nn\n",
        "\n",
        "#Creating a LR Model Regression Class\n",
        "class LinearRegression(nn.Module):\n",
        "  def __init__(self):\n",
        "    super().__init__()\n",
        "    self.weight = nn.Parameter(torch.randn(1,\n",
        "                                            requires_grad = True,\n",
        "                                            dtype = torch.float)) \n",
        "    self.bias = nn.Parameter(torch.randn(1,\n",
        "                                          requires_grad = True,\n",
        "                                          dtype = torch.float)) \n",
        "    \n",
        "  def forward(self, x:torch.Tensor) -> torch.Tensor: #input data is x, returns torch.Tensor\n",
        "    return self.weight*x + self.bias #linear regression formula\n",
        "       "
      ],
      "metadata": {
        "id": "UFuqWr5me-S5"
      },
      "execution_count": 11,
      "outputs": []
    },
    {
      "cell_type": "markdown",
      "source": [
        "### Checking contents of LR Model"
      ],
      "metadata": {
        "id": "0GtqlSkHIplt"
      }
    },
    {
      "cell_type": "code",
      "source": [
        "#Init a random seed\n",
        "RANDOM_SEED = 42\n",
        "torch.manual_seed(RANDOM_SEED)\n",
        "\n",
        "#Instance of LR Model\n",
        "\n",
        "model_LR = LinearRegression()\n",
        "param_LR = list(model_LR.parameters()) #list of the parameters\n",
        "named_param_LR = model_LR.state_dict() # named parameters\n",
        "print(param_LR, named_param_LR)  "
      ],
      "metadata": {
        "colab": {
          "base_uri": "https://localhost:8080/"
        },
        "id": "zQvi_u4kIw7d",
        "outputId": "66a1fe47-2bcb-483b-af3c-f399eabbea2a"
      },
      "execution_count": 15,
      "outputs": [
        {
          "output_type": "stream",
          "name": "stdout",
          "text": [
            "[Parameter containing:\n",
            "tensor([0.3367], requires_grad=True), Parameter containing:\n",
            "tensor([0.1288], requires_grad=True)] OrderedDict([('weight', tensor([0.3367])), ('bias', tensor([0.1288]))])\n"
          ]
        }
      ]
    },
    {
      "cell_type": "markdown",
      "source": [
        "### Make predictions using torch.inference_mode() "
      ],
      "metadata": {
        "id": "7zxL-ix5K1am"
      }
    },
    {
      "cell_type": "code",
      "source": [
        "#Inference mode disables gradient tracking (faster computing)\n",
        "\n",
        "with torch.inference_mode(): \n",
        "  ypredict = model_LR(Xtest)\n",
        "\n",
        "plt_predict(predictions = ypredict)\n"
      ],
      "metadata": {
        "colab": {
          "base_uri": "https://localhost:8080/",
          "height": 510
        },
        "id": "EDuervbfMl_z",
        "outputId": "87277598-e33d-46cc-a228-5996fff42ffd"
      },
      "execution_count": 18,
      "outputs": [
        {
          "output_type": "display_data",
          "data": {
            "text/plain": [
              "<Figure size 1000x700 with 1 Axes>"
            ],
            "image/png": "[encoded data removed]"
          },
          "metadata": {}
        }
      ]
    },
    {
      "cell_type": "code",
      "source": [],
      "metadata": {
        "id": "-O7-vMejOAc3"
      },
      "execution_count": null,
      "outputs": []
    }
  ]
}